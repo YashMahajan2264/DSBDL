{
 "cells": [
  {
   "cell_type": "code",
   "execution_count": 1,
   "id": "40356af3-c29b-4715-8c20-cbc99da8bb1d",
   "metadata": {},
   "outputs": [],
   "source": [
    "import pandas as pd\n",
    "import opendatasets as od\n",
    "import numpy as np"
   ]
  },
  {
   "cell_type": "code",
   "execution_count": null,
   "id": "fcf96d16-3c94-4406-b7fd-e6e4eb4d9c47",
   "metadata": {},
   "outputs": [],
   "source": [
    "#sankha subhra mondal"
   ]
  },
  {
   "cell_type": "code",
   "execution_count": 2,
   "id": "e220f008-4d1d-4a66-bc24-d43e8549ace2",
   "metadata": {},
   "outputs": [
    {
     "name": "stdout",
     "output_type": "stream",
     "text": [
      "Please provide your Kaggle credentials to download this dataset. Learn more: http://bit.ly/kaggle-creds\n",
      "Your Kaggle username:"
     ]
    },
    {
     "name": "stdin",
     "output_type": "stream",
     "text": [
      "  patilsanuuu\n"
     ]
    },
    {
     "name": "stdout",
     "output_type": "stream",
     "text": [
      "Your Kaggle Key:"
     ]
    },
    {
     "name": "stdin",
     "output_type": "stream",
     "text": [
      "  ········\n"
     ]
    },
    {
     "name": "stdout",
     "output_type": "stream",
     "text": [
      "Dataset URL: https://www.kaggle.com/datasets/sankha1998/student-semester-result\n",
      "Downloading student-semester-result.zip to .\\student-semester-result\n"
     ]
    },
    {
     "name": "stderr",
     "output_type": "stream",
     "text": [
      "100%|██████████| 2.41k/2.41k [00:00<00:00, 816kB/s]"
     ]
    },
    {
     "name": "stdout",
     "output_type": "stream",
     "text": [
      "\n"
     ]
    },
    {
     "name": "stderr",
     "output_type": "stream",
     "text": [
      "\n"
     ]
    }
   ],
   "source": [
    "od.download(\"https://www.kaggle.com/datasets/sankha1998/student-semester-result\")"
   ]
  },
  {
   "cell_type": "code",
   "execution_count": 3,
   "id": "b393f700-47c8-4f45-a0f2-6249fc473cb1",
   "metadata": {},
   "outputs": [],
   "source": [
    "df=pd.read_csv('student-semester-result/data.csv')"
   ]
  },
  {
   "cell_type": "code",
   "execution_count": 4,
   "id": "7c0c9c45-8807-4aa3-86cf-65efed168147",
   "metadata": {},
   "outputs": [
    {
     "name": "stdout",
     "output_type": "stream",
     "text": [
      "      1st   2nd   3rd   4th   5th  College Code  Gender     Roll  Roll no.  \\\n",
      "0    8.11  7.68  7.11  7.43  8.18           115  Female      NaN   17020.0   \n",
      "1    6.48  5.90  4.15  4.29  4.96           115    Male      NaN   17021.0   \n",
      "2    8.41  8.24  7.52  8.25  7.75           115  Female      NaN   17022.0   \n",
      "3    7.33  6.83  6.33  6.79  6.89           115    Male      NaN   17023.0   \n",
      "4    7.89  7.34  7.22  7.32  7.46           115    Male      NaN   17024.0   \n",
      "..    ...   ...   ...   ...   ...           ...     ...      ...       ...   \n",
      "173  7.48  7.55  7.67  7.39  8.65           241       F  17048.0       NaN   \n",
      "174  7.30  6.41  6.59  7.11  7.38           241       M  17049.0       NaN   \n",
      "175  6.30  6.28  5.89  5.71  6.50           241       M  17050.0       NaN   \n",
      "176  7.04  7.10  6.81  7.00  6.92           241       M  17051.0       NaN   \n",
      "177  6.70  6.81  6.52  5.39  7.00           241       M  17052.0       NaN   \n",
      "\n",
      "     Subject Code  \n",
      "0              16  \n",
      "1              16  \n",
      "2              16  \n",
      "3              16  \n",
      "4              16  \n",
      "..            ...  \n",
      "173            28  \n",
      "174            28  \n",
      "175            28  \n",
      "176            28  \n",
      "177            28  \n",
      "\n",
      "[178 rows x 10 columns]\n"
     ]
    }
   ],
   "source": [
    "print(df)"
   ]
  },
  {
   "cell_type": "code",
   "execution_count": 5,
   "id": "111a2a2c-7ce6-42e8-bb6f-80e52ce220ea",
   "metadata": {},
   "outputs": [
    {
     "data": {
      "text/html": [
       "<div>\n",
       "<style scoped>\n",
       "    .dataframe tbody tr th:only-of-type {\n",
       "        vertical-align: middle;\n",
       "    }\n",
       "\n",
       "    .dataframe tbody tr th {\n",
       "        vertical-align: top;\n",
       "    }\n",
       "\n",
       "    .dataframe thead th {\n",
       "        text-align: right;\n",
       "    }\n",
       "</style>\n",
       "<table border=\"1\" class=\"dataframe\">\n",
       "  <thead>\n",
       "    <tr style=\"text-align: right;\">\n",
       "      <th></th>\n",
       "      <th>1st</th>\n",
       "      <th>2nd</th>\n",
       "      <th>3rd</th>\n",
       "      <th>4th</th>\n",
       "      <th>5th</th>\n",
       "      <th>College Code</th>\n",
       "      <th>Gender</th>\n",
       "      <th>Roll</th>\n",
       "      <th>Roll no.</th>\n",
       "      <th>Subject Code</th>\n",
       "    </tr>\n",
       "  </thead>\n",
       "  <tbody>\n",
       "    <tr>\n",
       "      <th>0</th>\n",
       "      <td>8.11</td>\n",
       "      <td>7.68</td>\n",
       "      <td>7.11</td>\n",
       "      <td>7.43</td>\n",
       "      <td>8.18</td>\n",
       "      <td>115</td>\n",
       "      <td>Female</td>\n",
       "      <td>NaN</td>\n",
       "      <td>17020.0</td>\n",
       "      <td>16</td>\n",
       "    </tr>\n",
       "    <tr>\n",
       "      <th>1</th>\n",
       "      <td>6.48</td>\n",
       "      <td>5.90</td>\n",
       "      <td>4.15</td>\n",
       "      <td>4.29</td>\n",
       "      <td>4.96</td>\n",
       "      <td>115</td>\n",
       "      <td>Male</td>\n",
       "      <td>NaN</td>\n",
       "      <td>17021.0</td>\n",
       "      <td>16</td>\n",
       "    </tr>\n",
       "    <tr>\n",
       "      <th>2</th>\n",
       "      <td>8.41</td>\n",
       "      <td>8.24</td>\n",
       "      <td>7.52</td>\n",
       "      <td>8.25</td>\n",
       "      <td>7.75</td>\n",
       "      <td>115</td>\n",
       "      <td>Female</td>\n",
       "      <td>NaN</td>\n",
       "      <td>17022.0</td>\n",
       "      <td>16</td>\n",
       "    </tr>\n",
       "    <tr>\n",
       "      <th>3</th>\n",
       "      <td>7.33</td>\n",
       "      <td>6.83</td>\n",
       "      <td>6.33</td>\n",
       "      <td>6.79</td>\n",
       "      <td>6.89</td>\n",
       "      <td>115</td>\n",
       "      <td>Male</td>\n",
       "      <td>NaN</td>\n",
       "      <td>17023.0</td>\n",
       "      <td>16</td>\n",
       "    </tr>\n",
       "    <tr>\n",
       "      <th>4</th>\n",
       "      <td>7.89</td>\n",
       "      <td>7.34</td>\n",
       "      <td>7.22</td>\n",
       "      <td>7.32</td>\n",
       "      <td>7.46</td>\n",
       "      <td>115</td>\n",
       "      <td>Male</td>\n",
       "      <td>NaN</td>\n",
       "      <td>17024.0</td>\n",
       "      <td>16</td>\n",
       "    </tr>\n",
       "  </tbody>\n",
       "</table>\n",
       "</div>"
      ],
      "text/plain": [
       "    1st   2nd   3rd   4th   5th  College Code  Gender  Roll  Roll no.  \\\n",
       "0  8.11  7.68  7.11  7.43  8.18           115  Female   NaN   17020.0   \n",
       "1  6.48  5.90  4.15  4.29  4.96           115    Male   NaN   17021.0   \n",
       "2  8.41  8.24  7.52  8.25  7.75           115  Female   NaN   17022.0   \n",
       "3  7.33  6.83  6.33  6.79  6.89           115    Male   NaN   17023.0   \n",
       "4  7.89  7.34  7.22  7.32  7.46           115    Male   NaN   17024.0   \n",
       "\n",
       "   Subject Code  \n",
       "0            16  \n",
       "1            16  \n",
       "2            16  \n",
       "3            16  \n",
       "4            16  "
      ]
     },
     "execution_count": 5,
     "metadata": {},
     "output_type": "execute_result"
    }
   ],
   "source": [
    "df.head()"
   ]
  },
  {
   "cell_type": "code",
   "execution_count": 6,
   "id": "a71a100a-7fce-41ac-b8f0-6041263c538f",
   "metadata": {},
   "outputs": [
    {
     "name": "stdout",
     "output_type": "stream",
     "text": [
      "<class 'pandas.core.frame.DataFrame'>\n",
      "RangeIndex: 178 entries, 0 to 177\n",
      "Data columns (total 10 columns):\n",
      " #   Column        Non-Null Count  Dtype  \n",
      "---  ------        --------------  -----  \n",
      " 0   1st           176 non-null    float64\n",
      " 1   2nd           174 non-null    float64\n",
      " 2   3rd           176 non-null    float64\n",
      " 3   4th           173 non-null    float64\n",
      " 4   5th           172 non-null    float64\n",
      " 5   College Code  178 non-null    int64  \n",
      " 6   Gender        177 non-null    object \n",
      " 7   Roll          132 non-null    float64\n",
      " 8   Roll no.      46 non-null     float64\n",
      " 9   Subject Code  178 non-null    int64  \n",
      "dtypes: float64(7), int64(2), object(1)\n",
      "memory usage: 14.0+ KB\n"
     ]
    }
   ],
   "source": [
    "df.info()"
   ]
  },
  {
   "cell_type": "code",
   "execution_count": 7,
   "id": "63320b19-e933-4759-a17f-db715193afaa",
   "metadata": {},
   "outputs": [
    {
     "data": {
      "text/plain": [
       "1st               2\n",
       "2nd               4\n",
       "3rd               2\n",
       "4th               5\n",
       "5th               6\n",
       "College Code      0\n",
       "Gender            1\n",
       "Roll             46\n",
       "Roll no.        132\n",
       "Subject Code      0\n",
       "dtype: int64"
      ]
     },
     "execution_count": 7,
     "metadata": {},
     "output_type": "execute_result"
    }
   ],
   "source": [
    "df.isnull().sum()"
   ]
  },
  {
   "cell_type": "code",
   "execution_count": 9,
   "id": "3eb23987-6259-4713-be1d-4df27634b9b4",
   "metadata": {},
   "outputs": [],
   "source": [
    "avg_1=df['1st'].astype('float64').mean(axis=0)\n",
    "avg_2=df['2nd'].astype('float64').mean(axis=0)\n",
    "avg_3=df['3rd'].astype('float64').mean(axis=0)\n",
    "avg_4=df['4th'].astype('float64').mean(axis=0)\n",
    "avg_5=df['5th'].astype('float64').mean(axis=0)\n"
   ]
  },
  {
   "cell_type": "code",
   "execution_count": 10,
   "id": "fda5b8ca-2b9c-42ca-ba0c-01da5ae7ad36",
   "metadata": {},
   "outputs": [
    {
     "name": "stdout",
     "output_type": "stream",
     "text": [
      "average of 1st semester 7.038863636363637\n",
      "average of 2nd semester 6.943390804597701\n",
      "average of 3rd semester 6.6225\n",
      "average of 4th semester 7.027745664739886\n",
      "average of 5th semester 7.432558139534884\n"
     ]
    }
   ],
   "source": [
    "print('average of 1st semester',avg_1)\n",
    "print('average of 2nd semester',avg_2)\n",
    "print('average of 3rd semester',avg_3)\n",
    "print('average of 4th semester',avg_4)\n",
    "print('average of 5th semester',avg_5)\n"
   ]
  },
  {
   "cell_type": "code",
   "execution_count": 11,
   "id": "51a35698-a1b5-4fd3-97f7-2546dfc86c25",
   "metadata": {},
   "outputs": [],
   "source": [
    "df['1st'].replace(np.nan,avg_1,inplace=True)\n",
    "df['2nd'].replace(np.nan,avg_2,inplace=True)\n",
    "df['3rd'].replace(np.nan,avg_3,inplace=True)\n",
    "df['4th'].replace(np.nan,avg_4,inplace=True)\n",
    "df['5th'].replace(np.nan,avg_5,inplace=True)"
   ]
  },
  {
   "cell_type": "code",
   "execution_count": 12,
   "id": "34daf065-9f5e-4370-88fe-ebb2b4d9b2c1",
   "metadata": {},
   "outputs": [
    {
     "data": {
      "text/plain": [
       "1st               0\n",
       "2nd               0\n",
       "3rd               0\n",
       "4th               0\n",
       "5th               0\n",
       "College Code      0\n",
       "Gender            1\n",
       "Roll             46\n",
       "Roll no.        132\n",
       "Subject Code      0\n",
       "dtype: int64"
      ]
     },
     "execution_count": 12,
     "metadata": {},
     "output_type": "execute_result"
    }
   ],
   "source": [
    "df.isnull().sum()"
   ]
  },
  {
   "cell_type": "code",
   "execution_count": 13,
   "id": "1118b6a5-7aec-4748-b3c6-b40aca1cb92b",
   "metadata": {},
   "outputs": [],
   "source": [
    "df['Gender'].replace(np.nan,\"Female\",inplace=True)"
   ]
  },
  {
   "cell_type": "code",
   "execution_count": 14,
   "id": "c44ff277-690d-444e-8c09-0d354d0be14e",
   "metadata": {},
   "outputs": [
    {
     "data": {
      "text/plain": [
       "1st               0\n",
       "2nd               0\n",
       "3rd               0\n",
       "4th               0\n",
       "5th               0\n",
       "College Code      0\n",
       "Gender            0\n",
       "Roll             46\n",
       "Roll no.        132\n",
       "Subject Code      0\n",
       "dtype: int64"
      ]
     },
     "execution_count": 14,
     "metadata": {},
     "output_type": "execute_result"
    }
   ],
   "source": [
    "df.isnull().sum()"
   ]
  },
  {
   "cell_type": "code",
   "execution_count": 15,
   "id": "75e28e29-92c7-4a0e-adb5-ec5302610733",
   "metadata": {},
   "outputs": [],
   "source": [
    "max1=df['1st'].max()\n",
    "max2=df['2nd'].max()\n",
    "max3=df['3rd'].max()\n",
    "max4=df['4th'].max()\n",
    "max5=df['5th'].max()"
   ]
  },
  {
   "cell_type": "code",
   "execution_count": 16,
   "id": "08d1c8c5-ca60-4f6b-98c1-d90d93df04c9",
   "metadata": {},
   "outputs": [
    {
     "name": "stdout",
     "output_type": "stream",
     "text": [
      "9.15 9.21 9.59 9.31 9.46\n"
     ]
    }
   ],
   "source": [
    "print(max1,max2,max3,max4,max5)"
   ]
  },
  {
   "cell_type": "code",
   "execution_count": 17,
   "id": "44941b33-865a-408a-bc18-7c0290949dc5",
   "metadata": {},
   "outputs": [],
   "source": [
    "cgpa=['1st','2nd','3rd','4th','5th']\n",
    "max_values=[max1,max2,max3,max4,max5]"
   ]
  },
  {
   "cell_type": "code",
   "execution_count": 18,
   "id": "6337d4ce-3686-40af-b1b5-81ce3324aa03",
   "metadata": {},
   "outputs": [],
   "source": [
    "for cg,mv in zip(cgpa,max_values):\n",
    "    df[cg+\"_percentage\"]=(df[cg]/mv)*100"
   ]
  },
  {
   "cell_type": "code",
   "execution_count": 19,
   "id": "f85d34cb-ef47-4065-a0d3-4991498d4599",
   "metadata": {},
   "outputs": [
    {
     "name": "stdout",
     "output_type": "stream",
     "text": [
      "<class 'pandas.core.frame.DataFrame'>\n",
      "RangeIndex: 178 entries, 0 to 177\n",
      "Data columns (total 15 columns):\n",
      " #   Column          Non-Null Count  Dtype  \n",
      "---  ------          --------------  -----  \n",
      " 0   1st             178 non-null    float64\n",
      " 1   2nd             178 non-null    float64\n",
      " 2   3rd             178 non-null    float64\n",
      " 3   4th             178 non-null    float64\n",
      " 4   5th             178 non-null    float64\n",
      " 5   College Code    178 non-null    int64  \n",
      " 6   Gender          178 non-null    object \n",
      " 7   Roll            132 non-null    float64\n",
      " 8   Roll no.        46 non-null     float64\n",
      " 9   Subject Code    178 non-null    int64  \n",
      " 10  1st_percentage  178 non-null    float64\n",
      " 11  2nd_percentage  178 non-null    float64\n",
      " 12  3rd_percentage  178 non-null    float64\n",
      " 13  4th_percentage  178 non-null    float64\n",
      " 14  5th_percentage  178 non-null    float64\n",
      "dtypes: float64(12), int64(2), object(1)\n",
      "memory usage: 21.0+ KB\n"
     ]
    }
   ],
   "source": [
    "df.info()"
   ]
  },
  {
   "cell_type": "code",
   "execution_count": 20,
   "id": "80890818-7429-47ce-83ba-97a0b4a7784b",
   "metadata": {},
   "outputs": [
    {
     "data": {
      "text/html": [
       "<div>\n",
       "<style scoped>\n",
       "    .dataframe tbody tr th:only-of-type {\n",
       "        vertical-align: middle;\n",
       "    }\n",
       "\n",
       "    .dataframe tbody tr th {\n",
       "        vertical-align: top;\n",
       "    }\n",
       "\n",
       "    .dataframe thead th {\n",
       "        text-align: right;\n",
       "    }\n",
       "</style>\n",
       "<table border=\"1\" class=\"dataframe\">\n",
       "  <thead>\n",
       "    <tr style=\"text-align: right;\">\n",
       "      <th></th>\n",
       "      <th>1st</th>\n",
       "      <th>2nd</th>\n",
       "      <th>3rd</th>\n",
       "      <th>4th</th>\n",
       "      <th>5th</th>\n",
       "      <th>College Code</th>\n",
       "      <th>Gender</th>\n",
       "      <th>Roll</th>\n",
       "      <th>Roll no.</th>\n",
       "      <th>Subject Code</th>\n",
       "      <th>1st_percentage</th>\n",
       "      <th>2nd_percentage</th>\n",
       "      <th>3rd_percentage</th>\n",
       "      <th>4th_percentage</th>\n",
       "      <th>5th_percentage</th>\n",
       "    </tr>\n",
       "  </thead>\n",
       "  <tbody>\n",
       "    <tr>\n",
       "      <th>0</th>\n",
       "      <td>8.11</td>\n",
       "      <td>7.68</td>\n",
       "      <td>7.11</td>\n",
       "      <td>7.43</td>\n",
       "      <td>8.18</td>\n",
       "      <td>115</td>\n",
       "      <td>Female</td>\n",
       "      <td>NaN</td>\n",
       "      <td>17020.0</td>\n",
       "      <td>16</td>\n",
       "      <td>88.633880</td>\n",
       "      <td>83.387622</td>\n",
       "      <td>74.139729</td>\n",
       "      <td>79.806660</td>\n",
       "      <td>86.469345</td>\n",
       "    </tr>\n",
       "    <tr>\n",
       "      <th>1</th>\n",
       "      <td>6.48</td>\n",
       "      <td>5.90</td>\n",
       "      <td>4.15</td>\n",
       "      <td>4.29</td>\n",
       "      <td>4.96</td>\n",
       "      <td>115</td>\n",
       "      <td>Male</td>\n",
       "      <td>NaN</td>\n",
       "      <td>17021.0</td>\n",
       "      <td>16</td>\n",
       "      <td>70.819672</td>\n",
       "      <td>64.060803</td>\n",
       "      <td>43.274244</td>\n",
       "      <td>46.079484</td>\n",
       "      <td>52.431290</td>\n",
       "    </tr>\n",
       "    <tr>\n",
       "      <th>2</th>\n",
       "      <td>8.41</td>\n",
       "      <td>8.24</td>\n",
       "      <td>7.52</td>\n",
       "      <td>8.25</td>\n",
       "      <td>7.75</td>\n",
       "      <td>115</td>\n",
       "      <td>Female</td>\n",
       "      <td>NaN</td>\n",
       "      <td>17022.0</td>\n",
       "      <td>16</td>\n",
       "      <td>91.912568</td>\n",
       "      <td>89.467970</td>\n",
       "      <td>78.415016</td>\n",
       "      <td>88.614393</td>\n",
       "      <td>81.923890</td>\n",
       "    </tr>\n",
       "    <tr>\n",
       "      <th>3</th>\n",
       "      <td>7.33</td>\n",
       "      <td>6.83</td>\n",
       "      <td>6.33</td>\n",
       "      <td>6.79</td>\n",
       "      <td>6.89</td>\n",
       "      <td>115</td>\n",
       "      <td>Male</td>\n",
       "      <td>NaN</td>\n",
       "      <td>17023.0</td>\n",
       "      <td>16</td>\n",
       "      <td>80.109290</td>\n",
       "      <td>74.158523</td>\n",
       "      <td>66.006257</td>\n",
       "      <td>72.932331</td>\n",
       "      <td>72.832981</td>\n",
       "    </tr>\n",
       "    <tr>\n",
       "      <th>4</th>\n",
       "      <td>7.89</td>\n",
       "      <td>7.34</td>\n",
       "      <td>7.22</td>\n",
       "      <td>7.32</td>\n",
       "      <td>7.46</td>\n",
       "      <td>115</td>\n",
       "      <td>Male</td>\n",
       "      <td>NaN</td>\n",
       "      <td>17024.0</td>\n",
       "      <td>16</td>\n",
       "      <td>86.229508</td>\n",
       "      <td>79.695983</td>\n",
       "      <td>75.286757</td>\n",
       "      <td>78.625134</td>\n",
       "      <td>78.858351</td>\n",
       "    </tr>\n",
       "    <tr>\n",
       "      <th>5</th>\n",
       "      <td>7.33</td>\n",
       "      <td>6.72</td>\n",
       "      <td>6.48</td>\n",
       "      <td>6.50</td>\n",
       "      <td>7.39</td>\n",
       "      <td>115</td>\n",
       "      <td>Male</td>\n",
       "      <td>NaN</td>\n",
       "      <td>17025.0</td>\n",
       "      <td>16</td>\n",
       "      <td>80.109290</td>\n",
       "      <td>72.964169</td>\n",
       "      <td>67.570386</td>\n",
       "      <td>69.817401</td>\n",
       "      <td>78.118393</td>\n",
       "    </tr>\n",
       "    <tr>\n",
       "      <th>6</th>\n",
       "      <td>7.15</td>\n",
       "      <td>6.72</td>\n",
       "      <td>6.89</td>\n",
       "      <td>6.86</td>\n",
       "      <td>7.64</td>\n",
       "      <td>115</td>\n",
       "      <td>Male</td>\n",
       "      <td>NaN</td>\n",
       "      <td>17026.0</td>\n",
       "      <td>16</td>\n",
       "      <td>78.142077</td>\n",
       "      <td>72.964169</td>\n",
       "      <td>71.845673</td>\n",
       "      <td>73.684211</td>\n",
       "      <td>80.761099</td>\n",
       "    </tr>\n",
       "    <tr>\n",
       "      <th>7</th>\n",
       "      <td>6.74</td>\n",
       "      <td>6.38</td>\n",
       "      <td>4.93</td>\n",
       "      <td>5.64</td>\n",
       "      <td>6.75</td>\n",
       "      <td>115</td>\n",
       "      <td>Male</td>\n",
       "      <td>NaN</td>\n",
       "      <td>17027.0</td>\n",
       "      <td>16</td>\n",
       "      <td>73.661202</td>\n",
       "      <td>69.272530</td>\n",
       "      <td>51.407716</td>\n",
       "      <td>60.580021</td>\n",
       "      <td>71.353066</td>\n",
       "    </tr>\n",
       "    <tr>\n",
       "      <th>8</th>\n",
       "      <td>7.89</td>\n",
       "      <td>7.45</td>\n",
       "      <td>6.96</td>\n",
       "      <td>7.71</td>\n",
       "      <td>8.00</td>\n",
       "      <td>115</td>\n",
       "      <td>Female</td>\n",
       "      <td>NaN</td>\n",
       "      <td>17028.0</td>\n",
       "      <td>16</td>\n",
       "      <td>86.229508</td>\n",
       "      <td>80.890337</td>\n",
       "      <td>72.575600</td>\n",
       "      <td>82.814178</td>\n",
       "      <td>84.566596</td>\n",
       "    </tr>\n",
       "    <tr>\n",
       "      <th>9</th>\n",
       "      <td>7.30</td>\n",
       "      <td>6.34</td>\n",
       "      <td>6.30</td>\n",
       "      <td>6.61</td>\n",
       "      <td>6.18</td>\n",
       "      <td>115</td>\n",
       "      <td>Male</td>\n",
       "      <td>NaN</td>\n",
       "      <td>17029.0</td>\n",
       "      <td>16</td>\n",
       "      <td>79.781421</td>\n",
       "      <td>68.838219</td>\n",
       "      <td>65.693431</td>\n",
       "      <td>70.998926</td>\n",
       "      <td>65.327696</td>\n",
       "    </tr>\n",
       "  </tbody>\n",
       "</table>\n",
       "</div>"
      ],
      "text/plain": [
       "    1st   2nd   3rd   4th   5th  College Code  Gender  Roll  Roll no.  \\\n",
       "0  8.11  7.68  7.11  7.43  8.18           115  Female   NaN   17020.0   \n",
       "1  6.48  5.90  4.15  4.29  4.96           115    Male   NaN   17021.0   \n",
       "2  8.41  8.24  7.52  8.25  7.75           115  Female   NaN   17022.0   \n",
       "3  7.33  6.83  6.33  6.79  6.89           115    Male   NaN   17023.0   \n",
       "4  7.89  7.34  7.22  7.32  7.46           115    Male   NaN   17024.0   \n",
       "5  7.33  6.72  6.48  6.50  7.39           115    Male   NaN   17025.0   \n",
       "6  7.15  6.72  6.89  6.86  7.64           115    Male   NaN   17026.0   \n",
       "7  6.74  6.38  4.93  5.64  6.75           115    Male   NaN   17027.0   \n",
       "8  7.89  7.45  6.96  7.71  8.00           115  Female   NaN   17028.0   \n",
       "9  7.30  6.34  6.30  6.61  6.18           115    Male   NaN   17029.0   \n",
       "\n",
       "   Subject Code  1st_percentage  2nd_percentage  3rd_percentage  \\\n",
       "0            16       88.633880       83.387622       74.139729   \n",
       "1            16       70.819672       64.060803       43.274244   \n",
       "2            16       91.912568       89.467970       78.415016   \n",
       "3            16       80.109290       74.158523       66.006257   \n",
       "4            16       86.229508       79.695983       75.286757   \n",
       "5            16       80.109290       72.964169       67.570386   \n",
       "6            16       78.142077       72.964169       71.845673   \n",
       "7            16       73.661202       69.272530       51.407716   \n",
       "8            16       86.229508       80.890337       72.575600   \n",
       "9            16       79.781421       68.838219       65.693431   \n",
       "\n",
       "   4th_percentage  5th_percentage  \n",
       "0       79.806660       86.469345  \n",
       "1       46.079484       52.431290  \n",
       "2       88.614393       81.923890  \n",
       "3       72.932331       72.832981  \n",
       "4       78.625134       78.858351  \n",
       "5       69.817401       78.118393  \n",
       "6       73.684211       80.761099  \n",
       "7       60.580021       71.353066  \n",
       "8       82.814178       84.566596  \n",
       "9       70.998926       65.327696  "
      ]
     },
     "execution_count": 20,
     "metadata": {},
     "output_type": "execute_result"
    }
   ],
   "source": [
    "df.head(10)"
   ]
  },
  {
   "cell_type": "code",
   "execution_count": null,
   "id": "2346db36-0059-4a6e-b1fc-3f56e33db8ad",
   "metadata": {},
   "outputs": [],
   "source": []
  }
 ],
 "metadata": {
  "kernelspec": {
   "display_name": "Python 3 (ipykernel)",
   "language": "python",
   "name": "python3"
  },
  "language_info": {
   "codemirror_mode": {
    "name": "ipython",
    "version": 3
   },
   "file_extension": ".py",
   "mimetype": "text/x-python",
   "name": "python",
   "nbconvert_exporter": "python",
   "pygments_lexer": "ipython3",
   "version": "3.11.7"
  }
 },
 "nbformat": 4,
 "nbformat_minor": 5
}
