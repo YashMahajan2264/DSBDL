{
 "cells": [
  {
   "cell_type": "code",
   "execution_count": 1,
   "id": "59d01edb-c07c-4890-9cda-12d18a07fc3a",
   "metadata": {},
   "outputs": [],
   "source": [
    "import pandas as pd\n",
    "import numpy as np\n",
    "import statistics as st\n",
    "import opendatasets as od"
   ]
  },
  {
   "cell_type": "code",
   "execution_count": null,
   "id": "25e35cce-25f9-4f25-8af1-d1a9ac43ffc2",
   "metadata": {},
   "outputs": [],
   "source": [
    "#himanshu akrani"
   ]
  },
  {
   "cell_type": "code",
   "execution_count": 2,
   "id": "1a5e9113-67e7-4798-9580-62d187c41f48",
   "metadata": {},
   "outputs": [
    {
     "name": "stdout",
     "output_type": "stream",
     "text": [
      "Please provide your Kaggle credentials to download this dataset. Learn more: http://bit.ly/kaggle-creds\n",
      "Your Kaggle username:"
     ]
    },
    {
     "name": "stdin",
     "output_type": "stream",
     "text": [
      "  patilsanuuu\n"
     ]
    },
    {
     "name": "stdout",
     "output_type": "stream",
     "text": [
      "Your Kaggle Key:"
     ]
    },
    {
     "name": "stdin",
     "output_type": "stream",
     "text": [
      "  ········\n"
     ]
    },
    {
     "name": "stdout",
     "output_type": "stream",
     "text": [
      "Dataset URL: https://www.kaggle.com/datasets/himanshunakrani/iris-dataset\n",
      "Downloading iris-dataset.zip to .\\iris-dataset\n"
     ]
    },
    {
     "name": "stderr",
     "output_type": "stream",
     "text": [
      "100%|██████████| 0.98k/0.98k [00:00<00:00, 388kB/s]"
     ]
    },
    {
     "name": "stdout",
     "output_type": "stream",
     "text": [
      "\n"
     ]
    },
    {
     "name": "stderr",
     "output_type": "stream",
     "text": [
      "\n"
     ]
    }
   ],
   "source": [
    "od.download(\"https://www.kaggle.com/datasets/himanshunakrani/iris-dataset\")"
   ]
  },
  {
   "cell_type": "code",
   "execution_count": 8,
   "id": "ad100445-f21f-4778-a9fe-735c224bde92",
   "metadata": {},
   "outputs": [],
   "source": [
    "df=pd.read_csv(\"iris-flower-dataset/IRIS.csv\")"
   ]
  },
  {
   "cell_type": "code",
   "execution_count": 9,
   "id": "bcf2b4ad-b115-490e-8161-a8482ff2b860",
   "metadata": {},
   "outputs": [
    {
     "name": "stdout",
     "output_type": "stream",
     "text": [
      "<class 'pandas.core.frame.DataFrame'>\n",
      "RangeIndex: 150 entries, 0 to 149\n",
      "Data columns (total 5 columns):\n",
      " #   Column        Non-Null Count  Dtype  \n",
      "---  ------        --------------  -----  \n",
      " 0   sepal_length  150 non-null    float64\n",
      " 1   sepal_width   150 non-null    float64\n",
      " 2   petal_length  150 non-null    float64\n",
      " 3   petal_width   150 non-null    float64\n",
      " 4   species       150 non-null    object \n",
      "dtypes: float64(4), object(1)\n",
      "memory usage: 6.0+ KB\n"
     ]
    }
   ],
   "source": [
    "df.info()"
   ]
  },
  {
   "cell_type": "code",
   "execution_count": 10,
   "id": "15c8e64f-0b5d-4204-b56a-6e87cd57aa91",
   "metadata": {},
   "outputs": [
    {
     "data": {
      "text/html": [
       "<div>\n",
       "<style scoped>\n",
       "    .dataframe tbody tr th:only-of-type {\n",
       "        vertical-align: middle;\n",
       "    }\n",
       "\n",
       "    .dataframe tbody tr th {\n",
       "        vertical-align: top;\n",
       "    }\n",
       "\n",
       "    .dataframe thead th {\n",
       "        text-align: right;\n",
       "    }\n",
       "</style>\n",
       "<table border=\"1\" class=\"dataframe\">\n",
       "  <thead>\n",
       "    <tr style=\"text-align: right;\">\n",
       "      <th></th>\n",
       "      <th>sepal_length</th>\n",
       "      <th>sepal_width</th>\n",
       "      <th>petal_length</th>\n",
       "      <th>petal_width</th>\n",
       "      <th>species</th>\n",
       "    </tr>\n",
       "  </thead>\n",
       "  <tbody>\n",
       "    <tr>\n",
       "      <th>0</th>\n",
       "      <td>5.1</td>\n",
       "      <td>3.5</td>\n",
       "      <td>1.4</td>\n",
       "      <td>0.2</td>\n",
       "      <td>Iris-setosa</td>\n",
       "    </tr>\n",
       "    <tr>\n",
       "      <th>1</th>\n",
       "      <td>4.9</td>\n",
       "      <td>3.0</td>\n",
       "      <td>1.4</td>\n",
       "      <td>0.2</td>\n",
       "      <td>Iris-setosa</td>\n",
       "    </tr>\n",
       "    <tr>\n",
       "      <th>2</th>\n",
       "      <td>4.7</td>\n",
       "      <td>3.2</td>\n",
       "      <td>1.3</td>\n",
       "      <td>0.2</td>\n",
       "      <td>Iris-setosa</td>\n",
       "    </tr>\n",
       "    <tr>\n",
       "      <th>3</th>\n",
       "      <td>4.6</td>\n",
       "      <td>3.1</td>\n",
       "      <td>1.5</td>\n",
       "      <td>0.2</td>\n",
       "      <td>Iris-setosa</td>\n",
       "    </tr>\n",
       "    <tr>\n",
       "      <th>4</th>\n",
       "      <td>5.0</td>\n",
       "      <td>3.6</td>\n",
       "      <td>1.4</td>\n",
       "      <td>0.2</td>\n",
       "      <td>Iris-setosa</td>\n",
       "    </tr>\n",
       "  </tbody>\n",
       "</table>\n",
       "</div>"
      ],
      "text/plain": [
       "   sepal_length  sepal_width  petal_length  petal_width      species\n",
       "0           5.1          3.5           1.4          0.2  Iris-setosa\n",
       "1           4.9          3.0           1.4          0.2  Iris-setosa\n",
       "2           4.7          3.2           1.3          0.2  Iris-setosa\n",
       "3           4.6          3.1           1.5          0.2  Iris-setosa\n",
       "4           5.0          3.6           1.4          0.2  Iris-setosa"
      ]
     },
     "execution_count": 10,
     "metadata": {},
     "output_type": "execute_result"
    }
   ],
   "source": [
    "df.head()"
   ]
  },
  {
   "cell_type": "code",
   "execution_count": 11,
   "id": "b0a756c8-4ae0-4e35-94eb-167f5c111890",
   "metadata": {},
   "outputs": [],
   "source": [
    "summary=df.groupby('species')['sepal_length'].describe()"
   ]
  },
  {
   "cell_type": "code",
   "execution_count": 12,
   "id": "7ec7d713-46b3-4ee0-95d6-12ff503a68f4",
   "metadata": {},
   "outputs": [
    {
     "name": "stdout",
     "output_type": "stream",
     "text": [
      "                 count   mean       std  min    25%  50%  75%  max\n",
      "species                                                           \n",
      "Iris-setosa       50.0  5.006  0.352490  4.3  4.800  5.0  5.2  5.8\n",
      "Iris-versicolor   50.0  5.936  0.516171  4.9  5.600  5.9  6.3  7.0\n",
      "Iris-virginica    50.0  6.588  0.635880  4.9  6.225  6.5  6.9  7.9\n"
     ]
    }
   ],
   "source": [
    "print(summary)"
   ]
  },
  {
   "cell_type": "code",
   "execution_count": 13,
   "id": "56661442-5c73-4409-8078-c3edff62ef16",
   "metadata": {},
   "outputs": [],
   "source": [
    "def compute_stat(x):\n",
    "    mode_value=st.mode(x)\n",
    "    median_value=np.median(x)\n",
    "    return pd.Series([x.count(),x.mean(),x.std(),mode_value,median_value,x.max(),x.min()],index=['count','mean',\n",
    "                                                                                                 'stad','mode','med','max','min'])\n",
    "                                                                                        \n",
    "    "
   ]
  },
  {
   "cell_type": "code",
   "execution_count": 14,
   "id": "6b9d7809-217e-4419-bdc2-264c10be42ff",
   "metadata": {},
   "outputs": [],
   "source": [
    "sum_stat=df.groupby('species')['sepal_length'].apply(compute_stat)"
   ]
  },
  {
   "cell_type": "code",
   "execution_count": 15,
   "id": "a19ae635-7ea0-4076-b0af-36a2b1bf7d73",
   "metadata": {},
   "outputs": [
    {
     "name": "stdout",
     "output_type": "stream",
     "text": [
      "species               \n",
      "Iris-setosa      count    50.000000\n",
      "                 mean      5.006000\n",
      "                 stad      0.352490\n",
      "                 mode      5.100000\n",
      "                 med       5.000000\n",
      "                 max       5.800000\n",
      "                 min       4.300000\n",
      "Iris-versicolor  count    50.000000\n",
      "                 mean      5.936000\n",
      "                 stad      0.516171\n",
      "                 mode      5.500000\n",
      "                 med       5.900000\n",
      "                 max       7.000000\n",
      "                 min       4.900000\n",
      "Iris-virginica   count    50.000000\n",
      "                 mean      6.588000\n",
      "                 stad      0.635880\n",
      "                 mode      6.300000\n",
      "                 med       6.500000\n",
      "                 max       7.900000\n",
      "                 min       4.900000\n",
      "Name: sepal_length, dtype: float64\n"
     ]
    }
   ],
   "source": [
    "print(sum_stat)"
   ]
  },
  {
   "cell_type": "code",
   "execution_count": 18,
   "id": "658b851e-c4ab-4cd4-b165-c2e1fa2207f5",
   "metadata": {},
   "outputs": [
    {
     "name": "stdout",
     "output_type": "stream",
     "text": [
      "species\n",
      "Iris-setosa        5.1\n",
      "Iris-versicolor    5.5\n",
      "Iris-virginica     6.3\n",
      "Name: sepal_length, dtype: float64\n"
     ]
    }
   ],
   "source": [
    "stat_mode=df.groupby('species')['sepal_length'].apply(lambda x:st.mode(x))\n",
    "print(stat_mode)"
   ]
  },
  {
   "cell_type": "code",
   "execution_count": 19,
   "id": "b61a7286-0da7-456e-9cb4-c4bd46a30bde",
   "metadata": {},
   "outputs": [
    {
     "name": "stdout",
     "output_type": "stream",
     "text": [
      "species\n",
      "Iris-setosa        5.0\n",
      "Iris-versicolor    5.9\n",
      "Iris-virginica     6.5\n",
      "Name: sepal_length, dtype: float64\n"
     ]
    }
   ],
   "source": [
    "stat_median=df.groupby('species')['sepal_length'].median()\n",
    "print(stat_median)"
   ]
  },
  {
   "cell_type": "code",
   "execution_count": 20,
   "id": "5b7448e3-2dfb-46bc-8fa4-f2e89e4e6e11",
   "metadata": {},
   "outputs": [
    {
     "name": "stdout",
     "output_type": "stream",
     "text": [
      "[50, 50, 50]\n"
     ]
    }
   ],
   "source": [
    "abc=df.groupby('species').size().tolist()\n",
    "print(abc)"
   ]
  },
  {
   "cell_type": "code",
   "execution_count": 21,
   "id": "6eb0bd54-093b-4424-bfa1-ce7129641690",
   "metadata": {},
   "outputs": [
    {
     "name": "stdout",
     "output_type": "stream",
     "text": [
      "                sepal_length                                              \\\n",
      "                       count   mean       std  min    25%  50%  75%  max   \n",
      "species                                                                    \n",
      "Iris-setosa             50.0  5.006  0.352490  4.3  4.800  5.0  5.2  5.8   \n",
      "Iris-versicolor         50.0  5.936  0.516171  4.9  5.600  5.9  6.3  7.0   \n",
      "Iris-virginica          50.0  6.588  0.635880  4.9  6.225  6.5  6.9  7.9   \n",
      "\n",
      "                sepal_width         ... petal_length      petal_width         \\\n",
      "                      count   mean  ...          75%  max       count   mean   \n",
      "species                             ...                                        \n",
      "Iris-setosa            50.0  3.418  ...        1.575  1.9        50.0  0.244   \n",
      "Iris-versicolor        50.0  2.770  ...        4.600  5.1        50.0  1.326   \n",
      "Iris-virginica         50.0  2.974  ...        5.875  6.9        50.0  2.026   \n",
      "\n",
      "                                                    \n",
      "                      std  min  25%  50%  75%  max  \n",
      "species                                             \n",
      "Iris-setosa      0.107210  0.1  0.2  0.2  0.3  0.6  \n",
      "Iris-versicolor  0.197753  1.0  1.2  1.3  1.5  1.8  \n",
      "Iris-virginica   0.274650  1.4  1.8  2.0  2.3  2.5  \n",
      "\n",
      "[3 rows x 32 columns]\n"
     ]
    }
   ],
   "source": [
    "xyz=df.groupby('species').describe()\n",
    "print(xyz)"
   ]
  },
  {
   "cell_type": "code",
   "execution_count": 23,
   "id": "c03feb7f-4f2d-4c54-b232-a1482b50d5cd",
   "metadata": {},
   "outputs": [],
   "source": [
    "setosa=df[df['species']=='Iris-setosa'].describe()\n",
    "versicolor=df[df['species']=='Iris-versicolor'].describe()\n",
    "virginica=df[df['species']=='Iris-virginica'].describe()"
   ]
  },
  {
   "cell_type": "code",
   "execution_count": 25,
   "id": "2a808b68-a4d8-4bbe-afdc-c5f35dba9245",
   "metadata": {},
   "outputs": [
    {
     "name": "stdout",
     "output_type": "stream",
     "text": [
      "Setosa Statistics\n",
      "       sepal_length  sepal_width  petal_length  petal_width\n",
      "count      50.00000    50.000000     50.000000     50.00000\n",
      "mean        5.00600     3.418000      1.464000      0.24400\n",
      "std         0.35249     0.381024      0.173511      0.10721\n",
      "min         4.30000     2.300000      1.000000      0.10000\n",
      "25%         4.80000     3.125000      1.400000      0.20000\n",
      "50%         5.00000     3.400000      1.500000      0.20000\n",
      "75%         5.20000     3.675000      1.575000      0.30000\n",
      "max         5.80000     4.400000      1.900000      0.60000\n",
      "\n",
      "Veriscolor statistics\n",
      "       sepal_length  sepal_width  petal_length  petal_width\n",
      "count     50.000000    50.000000     50.000000    50.000000\n",
      "mean       5.936000     2.770000      4.260000     1.326000\n",
      "std        0.516171     0.313798      0.469911     0.197753\n",
      "min        4.900000     2.000000      3.000000     1.000000\n",
      "25%        5.600000     2.525000      4.000000     1.200000\n",
      "50%        5.900000     2.800000      4.350000     1.300000\n",
      "75%        6.300000     3.000000      4.600000     1.500000\n",
      "max        7.000000     3.400000      5.100000     1.800000\n",
      "\n",
      "Virginica Statoistics\n",
      "       sepal_length  sepal_width  petal_length  petal_width\n",
      "count      50.00000    50.000000     50.000000     50.00000\n",
      "mean        6.58800     2.974000      5.552000      2.02600\n",
      "std         0.63588     0.322497      0.551895      0.27465\n",
      "min         4.90000     2.200000      4.500000      1.40000\n",
      "25%         6.22500     2.800000      5.100000      1.80000\n",
      "50%         6.50000     3.000000      5.550000      2.00000\n",
      "75%         6.90000     3.175000      5.875000      2.30000\n",
      "max         7.90000     3.800000      6.900000      2.50000\n"
     ]
    }
   ],
   "source": [
    "print(\"Setosa Statistics\")\n",
    "print(setosa)\n",
    "print(\"\\nVeriscolor statistics\")\n",
    "print(versicolor)\n",
    "print(\"\\nVirginica Statoistics\")\n",
    "print(virginica)"
   ]
  },
  {
   "cell_type": "code",
   "execution_count": null,
   "id": "dfcb8f1d-1efd-43ea-b002-3a23499ecfb6",
   "metadata": {},
   "outputs": [],
   "source": []
  }
 ],
 "metadata": {
  "kernelspec": {
   "display_name": "Python 3 (ipykernel)",
   "language": "python",
   "name": "python3"
  },
  "language_info": {
   "codemirror_mode": {
    "name": "ipython",
    "version": 3
   },
   "file_extension": ".py",
   "mimetype": "text/x-python",
   "name": "python",
   "nbconvert_exporter": "python",
   "pygments_lexer": "ipython3",
   "version": "3.11.7"
  }
 },
 "nbformat": 4,
 "nbformat_minor": 5
}
