{
 "cells": [
  {
   "cell_type": "code",
   "execution_count": 1,
   "id": "52c7e9af-163d-41cb-a009-949523014b66",
   "metadata": {},
   "outputs": [
    {
     "name": "stderr",
     "output_type": "stream",
     "text": [
      "[nltk_data] Downloading package punkt to\n",
      "[nltk_data]     C:\\Users\\sanik\\AppData\\Roaming\\nltk_data...\n",
      "[nltk_data]   Unzipping tokenizers\\punkt.zip.\n",
      "[nltk_data] Downloading package averaged_perceptron_tagger to\n",
      "[nltk_data]     C:\\Users\\sanik\\AppData\\Roaming\\nltk_data...\n",
      "[nltk_data]   Unzipping taggers\\averaged_perceptron_tagger.zip.\n",
      "[nltk_data] Downloading package stopwords to\n",
      "[nltk_data]     C:\\Users\\sanik\\AppData\\Roaming\\nltk_data...\n",
      "[nltk_data]   Unzipping corpora\\stopwords.zip.\n",
      "[nltk_data] Downloading package wordnet to\n",
      "[nltk_data]     C:\\Users\\sanik\\AppData\\Roaming\\nltk_data...\n"
     ]
    }
   ],
   "source": [
    "import nltk\n",
    "nltk.download('punkt')\n",
    "nltk.download('averaged_perceptron_tagger')\n",
    "nltk.download('stopwords')\n",
    "nltk.download('wordnet')\n",
    "from nltk.corpus import stopwords\n",
    "from nltk.tokenize import word_tokenize\n",
    "from nltk.stem import PorterStemmer, WordNetLemmatizer\n",
    "from sklearn.feature_extraction.text import TfidfVectorizer"
   ]
  },
  {
   "cell_type": "code",
   "execution_count": 2,
   "id": "053c4b85-50a0-467b-99e4-b261bfe67485",
   "metadata": {},
   "outputs": [],
   "source": [
    "#Sample document\n",
    "document = \"In 1983 India won their first Cricket World Cup under the captaincy of Kapil Dev, marking a historic moment in Indian cricket history.\""
   ]
  },
  {
   "cell_type": "code",
   "execution_count": 3,
   "id": "db291d7c-539e-41f0-a8f3-550afa69d250",
   "metadata": {},
   "outputs": [
    {
     "name": "stdout",
     "output_type": "stream",
     "text": [
      "['In', '1983', 'India', 'won', 'their', 'first', 'Cricket', 'World', 'Cup', 'under', 'the', 'captaincy', 'of', 'Kapil', 'Dev', ',', 'marking', 'a', 'historic', 'moment', 'in', 'Indian', 'cricket', 'history', '.']\n"
     ]
    }
   ],
   "source": [
    "# Tokenization\n",
    "tokens = word_tokenize(document)\n",
    "print(tokens)"
   ]
  },
  {
   "cell_type": "code",
   "execution_count": 4,
   "id": "f6a5c1fd-4c19-4ef4-aaa3-e74c1f3857b2",
   "metadata": {},
   "outputs": [
    {
     "name": "stdout",
     "output_type": "stream",
     "text": [
      "[('In', 'IN'), ('1983', 'CD'), ('India', 'NNP'), ('won', 'VBD'), ('their', 'PRP$'), ('first', 'JJ'), ('Cricket', 'NNP'), ('World', 'NNP'), ('Cup', 'NNP'), ('under', 'IN'), ('the', 'DT'), ('captaincy', 'NN'), ('of', 'IN'), ('Kapil', 'NNP'), ('Dev', 'NNP'), (',', ','), ('marking', 'VBG'), ('a', 'DT'), ('historic', 'JJ'), ('moment', 'NN'), ('in', 'IN'), ('Indian', 'JJ'), ('cricket', 'NN'), ('history', 'NN'), ('.', '.')]\n"
     ]
    }
   ],
   "source": [
    "# POS Tagging\n",
    "pos_tags = nltk.pos_tag(tokens)\n",
    "print(pos_tags)"
   ]
  },
  {
   "cell_type": "code",
   "execution_count": 5,
   "id": "2671ea68-26b9-40ad-887a-be13a565773f",
   "metadata": {},
   "outputs": [
    {
     "name": "stdout",
     "output_type": "stream",
     "text": [
      "['1983', 'India', 'first', 'Cricket', 'World', 'Cup', 'captaincy', 'Kapil', 'Dev', ',', 'marking', 'historic', 'moment', 'Indian', 'cricket', 'history', '.']\n"
     ]
    }
   ],
   "source": [
    "# Stopwords Removal\n",
    "stop_words = set(stopwords.words('english'))\n",
    "filtered_tokens = [word for word in tokens if word.lower() not in stop_words]\n",
    "print(filtered_tokens)"
   ]
  },
  {
   "cell_type": "code",
   "execution_count": 6,
   "id": "b9dec2df-586d-4c1b-836a-5a14d9952f89",
   "metadata": {},
   "outputs": [
    {
     "name": "stdout",
     "output_type": "stream",
     "text": [
      "['1983', 'india', 'first', 'cricket', 'world', 'cup', 'captainci', 'kapil', 'dev', ',', 'mark', 'histor', 'moment', 'indian', 'cricket', 'histori', '.']\n"
     ]
    }
   ],
   "source": [
    "# Stemming \n",
    "stemmer = PorterStemmer()\n",
    "stemmed_tokens = [stemmer.stem(word) for word in filtered_tokens]\n",
    "print(stemmed_tokens)"
   ]
  },
  {
   "cell_type": "code",
   "execution_count": 7,
   "id": "7a163a6c-888a-4a57-8f47-59a37374c87c",
   "metadata": {},
   "outputs": [
    {
     "name": "stdout",
     "output_type": "stream",
     "text": [
      "['1983', 'India', 'first', 'Cricket', 'World', 'Cup', 'captaincy', 'Kapil', 'Dev', ',', 'marking', 'historic', 'moment', 'Indian', 'cricket', 'history', '.']\n"
     ]
    }
   ],
   "source": [
    "# Lemmatization\n",
    "lemmatizer = WordNetLemmatizer()\n",
    "lemmatized_tokens = [lemmatizer.lemmatize(word) for word in filtered_tokens]\n",
    "print(lemmatized_tokens)"
   ]
  },
  {
   "cell_type": "code",
   "execution_count": 8,
   "id": "67d79821-2d99-4551-81a7-d1b6e863510a",
   "metadata": {},
   "outputs": [],
   "source": [
    "# Create representations using TF-IDF\n",
    "tfidf_vectorizer = TfidfVectorizer()\n",
    "tfidf_matrix = tfidf_vectorizer.fit_transform([' '.join(lemmatized_tokens)])"
   ]
  },
  {
   "cell_type": "code",
   "execution_count": 9,
   "id": "4cbaae66-9526-4377-b84c-045954822056",
   "metadata": {},
   "outputs": [
    {
     "name": "stdout",
     "output_type": "stream",
     "text": [
      "\n",
      "TF-IDF Matrix:\n",
      "[[0.24253563 0.24253563 0.48507125 0.24253563 0.24253563 0.24253563\n",
      "  0.24253563 0.24253563 0.24253563 0.24253563 0.24253563 0.24253563\n",
      "  0.24253563 0.24253563]]\n",
      "Features Names: ['1983' 'captaincy' 'cricket' 'cup' 'dev' 'first' 'historic' 'history'\n",
      " 'india' 'indian' 'kapil' 'marking' 'moment' 'world']\n"
     ]
    }
   ],
   "source": [
    "print(\"\\nTF-IDF Matrix:\")\n",
    "print(tfidf_matrix.toarray())\n",
    "print(\"Features Names:\", tfidf_vectorizer.get_feature_names_out())"
   ]
  },
  {
   "cell_type": "code",
   "execution_count": 10,
   "id": "e78c0a05-f27b-42f7-ae85-37aa7ba6ebac",
   "metadata": {},
   "outputs": [],
   "source": [
    "from collections import Counter\n",
    "import math\n",
    "words = document.split()"
   ]
  },
  {
   "cell_type": "code",
   "execution_count": 11,
   "id": "aa4af2f3-549e-4892-b564-628c337fc5d1",
   "metadata": {},
   "outputs": [],
   "source": [
    "word_count = Counter(words)\n",
    "total_words = len(words)\n",
    "tf = {word: count/total_words for word, count in word_count.items()}"
   ]
  },
  {
   "cell_type": "code",
   "execution_count": 12,
   "id": "8f8b1452-a3fc-46ae-9f4b-5c027803a3e8",
   "metadata": {},
   "outputs": [
    {
     "name": "stdout",
     "output_type": "stream",
     "text": [
      "Term Frequency (TF) for each word:\n",
      "In: 0.043478260869565216\n",
      "1983: 0.043478260869565216\n",
      "India: 0.043478260869565216\n",
      "won: 0.043478260869565216\n",
      "their: 0.043478260869565216\n",
      "first: 0.043478260869565216\n",
      "Cricket: 0.043478260869565216\n",
      "World: 0.043478260869565216\n",
      "Cup: 0.043478260869565216\n",
      "under: 0.043478260869565216\n",
      "the: 0.043478260869565216\n",
      "captaincy: 0.043478260869565216\n",
      "of: 0.043478260869565216\n",
      "Kapil: 0.043478260869565216\n",
      "Dev,: 0.043478260869565216\n",
      "marking: 0.043478260869565216\n",
      "a: 0.043478260869565216\n",
      "historic: 0.043478260869565216\n",
      "moment: 0.043478260869565216\n",
      "in: 0.043478260869565216\n",
      "Indian: 0.043478260869565216\n",
      "cricket: 0.043478260869565216\n",
      "history.: 0.043478260869565216\n"
     ]
    }
   ],
   "source": [
    "print(\"Term Frequency (TF) for each word:\")\n",
    "for word, tf_value in tf.items():\n",
    "    print(f\"{word}: {tf_value}\")"
   ]
  },
  {
   "cell_type": "code",
   "execution_count": 13,
   "id": "8305477a-c541-4d73-9213-a44717f96447",
   "metadata": {},
   "outputs": [],
   "source": [
    "# tokenize the document\n",
    "words = set(document.split())"
   ]
  },
  {
   "cell_type": "code",
   "execution_count": 14,
   "id": "6c6af996-713c-4912-ad84-300877ce743c",
   "metadata": {},
   "outputs": [],
   "source": [
    "documents_containing_word = Counter()\n",
    "for word in words:\n",
    "    documents_containing_word[word] +=1"
   ]
  },
  {
   "cell_type": "code",
   "execution_count": 15,
   "id": "723a1d88-cae1-462c-a737-c9bb787695a7",
   "metadata": {},
   "outputs": [],
   "source": [
    "total_documents = 1\n",
    "idf= {word: math.log(total_documents / count) for word, count in documents_containing_word.items()}"
   ]
  },
  {
   "cell_type": "code",
   "execution_count": 16,
   "id": "39dd4660-9c10-4e3a-8dfe-af82e8c4e9a8",
   "metadata": {},
   "outputs": [
    {
     "name": "stdout",
     "output_type": "stream",
     "text": [
      "Inverse Document Frequency (IDF) for each word:\n",
      "World: 0.0\n",
      "of: 0.0\n",
      "cricket: 0.0\n",
      "a: 0.0\n",
      "India: 0.0\n",
      "marking: 0.0\n",
      "history.: 0.0\n",
      "moment: 0.0\n",
      "In: 0.0\n",
      "Indian: 0.0\n",
      "Kapil: 0.0\n",
      "in: 0.0\n",
      "historic: 0.0\n",
      "Dev,: 0.0\n",
      "Cricket: 0.0\n",
      "Cup: 0.0\n",
      "first: 0.0\n",
      "captaincy: 0.0\n",
      "their: 0.0\n",
      "won: 0.0\n",
      "1983: 0.0\n",
      "the: 0.0\n",
      "under: 0.0\n"
     ]
    }
   ],
   "source": [
    "print(\"Inverse Document Frequency (IDF) for each word:\")\n",
    "for word , idf_value in idf.items():\n",
    "    print(f\"{word}: {idf_value}\")\n"
   ]
  },
  {
   "cell_type": "code",
   "execution_count": null,
   "id": "e15eaa06-becd-4315-828d-75f935685933",
   "metadata": {},
   "outputs": [],
   "source": []
  }
 ],
 "metadata": {
  "kernelspec": {
   "display_name": "Python 3 (ipykernel)",
   "language": "python",
   "name": "python3"
  },
  "language_info": {
   "codemirror_mode": {
    "name": "ipython",
    "version": 3
   },
   "file_extension": ".py",
   "mimetype": "text/x-python",
   "name": "python",
   "nbconvert_exporter": "python",
   "pygments_lexer": "ipython3",
   "version": "3.11.7"
  }
 },
 "nbformat": 4,
 "nbformat_minor": 5
}
